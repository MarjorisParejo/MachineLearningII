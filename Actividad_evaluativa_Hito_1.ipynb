{
  "nbformat": 4,
  "nbformat_minor": 0,
  "metadata": {
    "colab": {
      "provenance": [],
      "gpuType": "T4"
    },
    "kernelspec": {
      "name": "python3",
      "display_name": "Python 3"
    },
    "language_info": {
      "name": "python"
    },
    "accelerator": "GPU"
  },
  "cells": [
    {
      "cell_type": "markdown",
      "source": [
        "#🧠💻Evaluación de conceptos fundamentales y aplicaciones prácticas de redes neuronales\n"
      ],
      "metadata": {
        "id": "WEQ0Hf4_yNzy"
      }
    },
    {
      "cell_type": "markdown",
      "source": [
        "**Nombre:** Marjoris Elena Parejo Castillo 👷🏻‍♀️📊\n",
        "\n",
        "**LinkedIn:** [Perfil Marjoris Parejo🔗](https://www.linkedin.com/in/marjorisparejo/)\n",
        "\n",
        "**Asignatura:** Machine Learning II 💻📈🧠\n",
        "\n",
        "**Programa:** Especialización en Machine Learning 🧠🤖"
      ],
      "metadata": {
        "id": "RurW-djtQ6rd"
      }
    },
    {
      "cell_type": "markdown",
      "source": [
        "##Parte Teórica\n",
        "\n",
        "1.   **Red neuronal y sus componentes principales**.\n",
        "\n",
        "     Una **red neuronal** es una estructura computacional compleja que imita el funcionamiento del cerebro humano, es decir, la manera en que este procesa la información. Se compone de:\n",
        "\n",
        "      *   Neuronas o nodos: Son las unidades de procesamiento.\n",
        "      *   Pesos y sesgos: Son parámetros que definen como la red neuronal procesa la información. Por una parte, los pesos son valores numericos que indican cuanto influye cada entrada en el resultado. Por otra parte, el sesgo es un número que permite ajustar la salida de una neurona.\n",
        "      *   Capas:\n",
        "\n",
        "        *   Una capa de entrada que recibe los datos para el procesamiento\n",
        "        *   Varias capas ocultas donde se ejecutan los cálculos por medio de neuronas\n",
        "        *   Una capa de salida que genera el resultado final tras procesar el modelo.\n",
        "      * Funciones de activación: Son componentes que agregan no linealidad al aprendizaje permitiendo a la red resolver problemas más complejos. En otras palabras, ayudan al modelo a decidir que información pasa a la siguiente capa.\n",
        "\n",
        "  **Ejemplo**: Predicción para el crecimiento de una planta 🌱\n",
        "\n",
        "      Se usará una red neuronal para predecir el crecimiento de una planta teniendo en cuenta la luz, la temperatura y la humedad.\n",
        "\n",
        "* **Capa de entrada**: Recibe los datos del ambiente (luz, temperatura, humedad).\n",
        "* **Pesos y sesgos**: Cada dato se multiplica por un peso y se ajusta con un sesgo, determinando su influencia.\n",
        "* **Primera capa oculta**:Detecta relaciones simples (ejemplo: más luz implica más crecimiento).\n",
        "* **Segunda capa oculta**: Combina factores (ejemplo: luz alta + humedad baja = crecimiento moderado)\n",
        "* **Tercera capa oculta**:Ajusta detalles y mejora precisión.\n",
        "* **Funciones de activación**: Decide que información pasa adelante.\n",
        "* **Capa de salida**: Predicción del crecimiento de la planta (crecimiento estimado en cm)\n",
        "\n",
        "#### 🌱 Esquema: Red neuronal para predecir el crecimiento de una planta\n",
        "\n",
        "```plaintext\n",
        "[ Luz ]          [ Temperatura ]          [ Humedad ]\n",
        "   │                     │                      │\n",
        "   └────┬───────────────┴───────────────┬───────┘\n",
        "        ▼                               ▼\n",
        "         📥 Capa de entrada (3 neuronas)\n",
        "                     │\n",
        "              (Pesos y sesgos)\n",
        "                     ▼\n",
        "     🔵 Primera capa oculta (detecta patrones simples)\n",
        "                     │\n",
        "              (Función de activación)\n",
        "                     ▼\n",
        "     🔵 Segunda capa oculta (combinaciones de factores)\n",
        "                     │\n",
        "              (Función de activación)\n",
        "                     ▼\n",
        "     🔵 Tercera capa oculta (ajuste fino)\n",
        "                     │\n",
        "              (Función de activación)\n",
        "                     ▼\n",
        "         📤 Capa de salida (predicción de crecimiento en cm)\n",
        "```\n",
        "\n",
        "🧠 *Funciones de activación (ReLU, Sigmoid, Tanh) se aplican en cada capa oculta para que la red aprenda relaciones no lineales.*\n",
        "\n",
        "\n",
        "\n",
        "\n",
        "2.   **Backpropagation y su importancia en el entrenamiento de redes neuronales.**\n",
        "\n",
        "  Es el proceso que ayuda a las redes neuronales a aprender de sus errores, es decir, cuando un modelo realiza una predicción incorrecta, **backpropagation** hace un ajuste en los pesos de las conexiones entre neuronas para mejorar la precisión de la próxima predicción.\n",
        "\n",
        "  La retropropagación o backpropagation es importante porque permite que la red aprenda de sus errores optimizando el modelo para que se ajuste a los patrones de los datos. Además este asegura que en el entrenamiento de las redes neuronales el modelo no se quede detenido en repuestas incorrectas.\n",
        "\n",
        "  **Ejemplo**: Proceso de Backpropagation en la Red Neuronal para Predecir el Crecimiento de una Planta🌱\n",
        "  Siguiendo con el ejemplo:\n",
        "\n",
        "      1.**🔜 Paso hacia adelante**:\n",
        "        * 🌍 Entrada: Datos de luz 🌞, temperatura 🌡️, humedad 💧\n",
        "        * 📊 Predicción: Crecimiento de la planta (ejemplo: 10 cm)\n",
        "\n",
        "      2.**❌ Cálculo del error**:\n",
        "        * ⚠️ Error = Predicción - Crecimiento real (ejemplo: 10 cm - 8 cm = 2 cm)\n",
        "\n",
        "      3.**🔙 Retropropagación del error**:\n",
        "        * 🔄 El error se retropropaga a través de las capas de la red\n",
        "        * ⚙️ Ajuste de los pesos según la influencia de cada dato\n",
        "\n",
        "      4.**🔧 Ajuste de pesos**:\n",
        "        * 🔍 Los pesos de las conexiones se ajustan para reducir el error en la próxima predicción\n",
        "\n",
        "      5.**🔁 Iteración**:\n",
        "        * 🔄 Repetición del proceso con diferentes ejemplos de datos\n",
        "        * 📈 La red mejora sus predicciones con el tiempo\n",
        "\n",
        "\n",
        "\n",
        "3.   **Funciones de activación comunes y sus características principales**.\n",
        "\n",
        "  Las 3 funciones comúnes de activación son ReLU, Sigmoid y Tanh (Tangente hiperbólica)\n",
        "\n",
        "  1. **ReLU (Rectified Linear Unit) 🔼**\n",
        "    * **Fórmula**: \\( f(x) = \\max(0, x) \\)\n",
        "    * **Descripción**: Solo permite que la neurona \"dispare\" cuando la entrada es positiva. Si la entrada es negativa, no ocurre nada.\n",
        "  * **Ejemplo**: 🌱 Predecir el crecimiento de una planta dependiendo de la luz que recibe, la planta crece (activa) cuando hay suficiente luz. Si no hay luz, no crece (no activa).\n",
        "\n",
        "   2. **Sigmoid ⚖️**\n",
        "    * **Fórmula**: \\( f(x) = \\frac{1}{1 + e^{-x}} \\)\n",
        "    * **Descripción**: Hace que la salida sea siempre un número entre 0 y 1, como si estuviera decidiendo cuán probable es algo.\n",
        "    * **Ejemplo**: 🛍️ Predecir si una persona comprará un producto en línea, la salida podría ser 0.8 (80% de probabilidad de compra).\n",
        "\n",
        "  3. **Tanh (Tangente Hiperbólica) 🔁**\n",
        "    * **Fórmula**: \\( f(x) = \\frac{e^{x} - e^{-x}}{e^{x} + e^{-x}} \\)\n",
        "    * **Descripción**: Es como la Sigmoid, pero en lugar de dar un valor entre 0 y 1, da un valor entre -1 y 1. Esto es útil cuando los datos necesitan estar equilibrados alrededor de cero, como cuando se tienen tanto valores positivos como negativos.\n",
        "    * **Ejemplo**: 🌡️ Predecir la temperatura, donde la red puede decir 1 para alta temperatura, -1 para baja temperatura, y 0 para temperatura normal.\n",
        "        \n",
        "\n",
        "\n",
        "\n",
        "\n",
        "\n"
      ],
      "metadata": {
        "id": "j9cOWBirykiR"
      }
    },
    {
      "cell_type": "markdown",
      "source": [
        "##Parte Práctica"
      ],
      "metadata": {
        "id": "QA_PnnaGy4mv"
      }
    },
    {
      "cell_type": "markdown",
      "source": [
        "### Importación de paquetes\n",
        "\n",
        "\n",
        "\n"
      ],
      "metadata": {
        "id": "K01SxiAE-hSC"
      }
    },
    {
      "cell_type": "markdown",
      "source": [
        "Comenzamos importando los paquetes que se utilizarán en cada parte del desarrollo del modelo."
      ],
      "metadata": {
        "id": "bbMGtY-r7kqx"
      }
    },
    {
      "cell_type": "code",
      "execution_count": 36,
      "metadata": {
        "id": "kgV-SCpeyEhP",
        "colab": {
          "base_uri": "https://localhost:8080/"
        },
        "outputId": "620fb714-6957-42aa-c918-b1d6bc4656b0"
      },
      "outputs": [
        {
          "output_type": "stream",
          "name": "stdout",
          "text": [
            "Drive already mounted at /content/drive; to attempt to forcibly remount, call drive.mount(\"/content/drive\", force_remount=True).\n"
          ]
        }
      ],
      "source": [
        "#Importación de paquetes\n",
        "\n",
        "#Carga de datos 📊\n",
        "from google.colab import drive\n",
        "drive.mount('/content/drive')\n",
        "import pandas as pd\n",
        "\n",
        "#Visualización de datos 📈\n",
        "import matplotlib.pyplot as plt\n",
        "import seaborn as sns\n",
        "\n",
        "#Preprocesamiento de datos 🧹\n",
        "from sklearn.model_selection import train_test_split\n",
        "from sklearn.preprocessing import StandardScaler\n",
        "\n",
        "#Construcción y entrenamiento del modelo 🧠\n",
        "from tensorflow.keras.models import Sequential\n",
        "from tensorflow.keras.layers import Dense\n",
        "from tensorflow.keras.optimizers import Adam\n",
        "\n",
        "#Evaluación del modelo 🧪\n",
        "from sklearn.metrics import accuracy_score, confusion_matrix, classification_report\n",
        "from sklearn.metrics import roc_curve,auc\n",
        "from sklearn.metrics import precision_recall_curve,average_precision_score\n"
      ]
    },
    {
      "cell_type": "markdown",
      "source": [
        "📁 El dataset con el que se va a trabajar se denomina \"Credit Card Fraud Detection\" (💳 Detección de fraude con tarjetas de crédito).\n",
        "\n",
        "📊 El conjunto de datos contiene información sobre transacciones financieras realizadas por clientes de una entidad bancaria.\n",
        "\n",
        "🧾 Cada fila representa una transacción e incluye múltiples características numéricas derivadas, como el 💰 monto, el ⏱️ tiempo o 🧠 patrones ocultos obtenidos mediante técnicas de reducción de dimensionalidad."
      ],
      "metadata": {
        "id": "WQ-omu0A5KOi"
      }
    },
    {
      "cell_type": "markdown",
      "source": [
        "### Carga del dataset📊"
      ],
      "metadata": {
        "id": "GClFvT3a-l4y"
      }
    },
    {
      "cell_type": "code",
      "source": [
        "#Carga de dataset\n",
        "ruta='/content/drive/MyDrive/MachineLearningII/creditcard.csv'\n",
        "Df_creditcard=pd.read_csv(ruta)\n",
        "Df_creditcard.head()\n"
      ],
      "metadata": {
        "colab": {
          "base_uri": "https://localhost:8080/",
          "height": 256
        },
        "id": "KBvL1cpWzBUw",
        "outputId": "65e9dccf-8f23-4807-eff1-2a68e3d032bf"
      },
      "execution_count": 37,
      "outputs": [
        {
          "output_type": "execute_result",
          "data": {
            "text/plain": [
              "   Time        V1        V2        V3        V4        V5        V6        V7  \\\n",
              "0   0.0 -1.359807 -0.072781  2.536347  1.378155 -0.338321  0.462388  0.239599   \n",
              "1   0.0  1.191857  0.266151  0.166480  0.448154  0.060018 -0.082361 -0.078803   \n",
              "2   1.0 -1.358354 -1.340163  1.773209  0.379780 -0.503198  1.800499  0.791461   \n",
              "3   1.0 -0.966272 -0.185226  1.792993 -0.863291 -0.010309  1.247203  0.237609   \n",
              "4   2.0 -1.158233  0.877737  1.548718  0.403034 -0.407193  0.095921  0.592941   \n",
              "\n",
              "         V8        V9  ...       V21       V22       V23       V24       V25  \\\n",
              "0  0.098698  0.363787  ... -0.018307  0.277838 -0.110474  0.066928  0.128539   \n",
              "1  0.085102 -0.255425  ... -0.225775 -0.638672  0.101288 -0.339846  0.167170   \n",
              "2  0.247676 -1.514654  ...  0.247998  0.771679  0.909412 -0.689281 -0.327642   \n",
              "3  0.377436 -1.387024  ... -0.108300  0.005274 -0.190321 -1.175575  0.647376   \n",
              "4 -0.270533  0.817739  ... -0.009431  0.798278 -0.137458  0.141267 -0.206010   \n",
              "\n",
              "        V26       V27       V28  Amount  Class  \n",
              "0 -0.189115  0.133558 -0.021053  149.62      0  \n",
              "1  0.125895 -0.008983  0.014724    2.69      0  \n",
              "2 -0.139097 -0.055353 -0.059752  378.66      0  \n",
              "3 -0.221929  0.062723  0.061458  123.50      0  \n",
              "4  0.502292  0.219422  0.215153   69.99      0  \n",
              "\n",
              "[5 rows x 31 columns]"
            ],
            "text/html": [
              "\n",
              "  <div id=\"df-826c0762-34fa-465f-9ec2-589b6f4e68c2\" class=\"colab-df-container\">\n",
              "    <div>\n",
              "<style scoped>\n",
              "    .dataframe tbody tr th:only-of-type {\n",
              "        vertical-align: middle;\n",
              "    }\n",
              "\n",
              "    .dataframe tbody tr th {\n",
              "        vertical-align: top;\n",
              "    }\n",
              "\n",
              "    .dataframe thead th {\n",
              "        text-align: right;\n",
              "    }\n",
              "</style>\n",
              "<table border=\"1\" class=\"dataframe\">\n",
              "  <thead>\n",
              "    <tr style=\"text-align: right;\">\n",
              "      <th></th>\n",
              "      <th>Time</th>\n",
              "      <th>V1</th>\n",
              "      <th>V2</th>\n",
              "      <th>V3</th>\n",
              "      <th>V4</th>\n",
              "      <th>V5</th>\n",
              "      <th>V6</th>\n",
              "      <th>V7</th>\n",
              "      <th>V8</th>\n",
              "      <th>V9</th>\n",
              "      <th>...</th>\n",
              "      <th>V21</th>\n",
              "      <th>V22</th>\n",
              "      <th>V23</th>\n",
              "      <th>V24</th>\n",
              "      <th>V25</th>\n",
              "      <th>V26</th>\n",
              "      <th>V27</th>\n",
              "      <th>V28</th>\n",
              "      <th>Amount</th>\n",
              "      <th>Class</th>\n",
              "    </tr>\n",
              "  </thead>\n",
              "  <tbody>\n",
              "    <tr>\n",
              "      <th>0</th>\n",
              "      <td>0.0</td>\n",
              "      <td>-1.359807</td>\n",
              "      <td>-0.072781</td>\n",
              "      <td>2.536347</td>\n",
              "      <td>1.378155</td>\n",
              "      <td>-0.338321</td>\n",
              "      <td>0.462388</td>\n",
              "      <td>0.239599</td>\n",
              "      <td>0.098698</td>\n",
              "      <td>0.363787</td>\n",
              "      <td>...</td>\n",
              "      <td>-0.018307</td>\n",
              "      <td>0.277838</td>\n",
              "      <td>-0.110474</td>\n",
              "      <td>0.066928</td>\n",
              "      <td>0.128539</td>\n",
              "      <td>-0.189115</td>\n",
              "      <td>0.133558</td>\n",
              "      <td>-0.021053</td>\n",
              "      <td>149.62</td>\n",
              "      <td>0</td>\n",
              "    </tr>\n",
              "    <tr>\n",
              "      <th>1</th>\n",
              "      <td>0.0</td>\n",
              "      <td>1.191857</td>\n",
              "      <td>0.266151</td>\n",
              "      <td>0.166480</td>\n",
              "      <td>0.448154</td>\n",
              "      <td>0.060018</td>\n",
              "      <td>-0.082361</td>\n",
              "      <td>-0.078803</td>\n",
              "      <td>0.085102</td>\n",
              "      <td>-0.255425</td>\n",
              "      <td>...</td>\n",
              "      <td>-0.225775</td>\n",
              "      <td>-0.638672</td>\n",
              "      <td>0.101288</td>\n",
              "      <td>-0.339846</td>\n",
              "      <td>0.167170</td>\n",
              "      <td>0.125895</td>\n",
              "      <td>-0.008983</td>\n",
              "      <td>0.014724</td>\n",
              "      <td>2.69</td>\n",
              "      <td>0</td>\n",
              "    </tr>\n",
              "    <tr>\n",
              "      <th>2</th>\n",
              "      <td>1.0</td>\n",
              "      <td>-1.358354</td>\n",
              "      <td>-1.340163</td>\n",
              "      <td>1.773209</td>\n",
              "      <td>0.379780</td>\n",
              "      <td>-0.503198</td>\n",
              "      <td>1.800499</td>\n",
              "      <td>0.791461</td>\n",
              "      <td>0.247676</td>\n",
              "      <td>-1.514654</td>\n",
              "      <td>...</td>\n",
              "      <td>0.247998</td>\n",
              "      <td>0.771679</td>\n",
              "      <td>0.909412</td>\n",
              "      <td>-0.689281</td>\n",
              "      <td>-0.327642</td>\n",
              "      <td>-0.139097</td>\n",
              "      <td>-0.055353</td>\n",
              "      <td>-0.059752</td>\n",
              "      <td>378.66</td>\n",
              "      <td>0</td>\n",
              "    </tr>\n",
              "    <tr>\n",
              "      <th>3</th>\n",
              "      <td>1.0</td>\n",
              "      <td>-0.966272</td>\n",
              "      <td>-0.185226</td>\n",
              "      <td>1.792993</td>\n",
              "      <td>-0.863291</td>\n",
              "      <td>-0.010309</td>\n",
              "      <td>1.247203</td>\n",
              "      <td>0.237609</td>\n",
              "      <td>0.377436</td>\n",
              "      <td>-1.387024</td>\n",
              "      <td>...</td>\n",
              "      <td>-0.108300</td>\n",
              "      <td>0.005274</td>\n",
              "      <td>-0.190321</td>\n",
              "      <td>-1.175575</td>\n",
              "      <td>0.647376</td>\n",
              "      <td>-0.221929</td>\n",
              "      <td>0.062723</td>\n",
              "      <td>0.061458</td>\n",
              "      <td>123.50</td>\n",
              "      <td>0</td>\n",
              "    </tr>\n",
              "    <tr>\n",
              "      <th>4</th>\n",
              "      <td>2.0</td>\n",
              "      <td>-1.158233</td>\n",
              "      <td>0.877737</td>\n",
              "      <td>1.548718</td>\n",
              "      <td>0.403034</td>\n",
              "      <td>-0.407193</td>\n",
              "      <td>0.095921</td>\n",
              "      <td>0.592941</td>\n",
              "      <td>-0.270533</td>\n",
              "      <td>0.817739</td>\n",
              "      <td>...</td>\n",
              "      <td>-0.009431</td>\n",
              "      <td>0.798278</td>\n",
              "      <td>-0.137458</td>\n",
              "      <td>0.141267</td>\n",
              "      <td>-0.206010</td>\n",
              "      <td>0.502292</td>\n",
              "      <td>0.219422</td>\n",
              "      <td>0.215153</td>\n",
              "      <td>69.99</td>\n",
              "      <td>0</td>\n",
              "    </tr>\n",
              "  </tbody>\n",
              "</table>\n",
              "<p>5 rows × 31 columns</p>\n",
              "</div>\n",
              "    <div class=\"colab-df-buttons\">\n",
              "\n",
              "  <div class=\"colab-df-container\">\n",
              "    <button class=\"colab-df-convert\" onclick=\"convertToInteractive('df-826c0762-34fa-465f-9ec2-589b6f4e68c2')\"\n",
              "            title=\"Convert this dataframe to an interactive table.\"\n",
              "            style=\"display:none;\">\n",
              "\n",
              "  <svg xmlns=\"http://www.w3.org/2000/svg\" height=\"24px\" viewBox=\"0 -960 960 960\">\n",
              "    <path d=\"M120-120v-720h720v720H120Zm60-500h600v-160H180v160Zm220 220h160v-160H400v160Zm0 220h160v-160H400v160ZM180-400h160v-160H180v160Zm440 0h160v-160H620v160ZM180-180h160v-160H180v160Zm440 0h160v-160H620v160Z\"/>\n",
              "  </svg>\n",
              "    </button>\n",
              "\n",
              "  <style>\n",
              "    .colab-df-container {\n",
              "      display:flex;\n",
              "      gap: 12px;\n",
              "    }\n",
              "\n",
              "    .colab-df-convert {\n",
              "      background-color: #E8F0FE;\n",
              "      border: none;\n",
              "      border-radius: 50%;\n",
              "      cursor: pointer;\n",
              "      display: none;\n",
              "      fill: #1967D2;\n",
              "      height: 32px;\n",
              "      padding: 0 0 0 0;\n",
              "      width: 32px;\n",
              "    }\n",
              "\n",
              "    .colab-df-convert:hover {\n",
              "      background-color: #E2EBFA;\n",
              "      box-shadow: 0px 1px 2px rgba(60, 64, 67, 0.3), 0px 1px 3px 1px rgba(60, 64, 67, 0.15);\n",
              "      fill: #174EA6;\n",
              "    }\n",
              "\n",
              "    .colab-df-buttons div {\n",
              "      margin-bottom: 4px;\n",
              "    }\n",
              "\n",
              "    [theme=dark] .colab-df-convert {\n",
              "      background-color: #3B4455;\n",
              "      fill: #D2E3FC;\n",
              "    }\n",
              "\n",
              "    [theme=dark] .colab-df-convert:hover {\n",
              "      background-color: #434B5C;\n",
              "      box-shadow: 0px 1px 3px 1px rgba(0, 0, 0, 0.15);\n",
              "      filter: drop-shadow(0px 1px 2px rgba(0, 0, 0, 0.3));\n",
              "      fill: #FFFFFF;\n",
              "    }\n",
              "  </style>\n",
              "\n",
              "    <script>\n",
              "      const buttonEl =\n",
              "        document.querySelector('#df-826c0762-34fa-465f-9ec2-589b6f4e68c2 button.colab-df-convert');\n",
              "      buttonEl.style.display =\n",
              "        google.colab.kernel.accessAllowed ? 'block' : 'none';\n",
              "\n",
              "      async function convertToInteractive(key) {\n",
              "        const element = document.querySelector('#df-826c0762-34fa-465f-9ec2-589b6f4e68c2');\n",
              "        const dataTable =\n",
              "          await google.colab.kernel.invokeFunction('convertToInteractive',\n",
              "                                                    [key], {});\n",
              "        if (!dataTable) return;\n",
              "\n",
              "        const docLinkHtml = 'Like what you see? Visit the ' +\n",
              "          '<a target=\"_blank\" href=https://colab.research.google.com/notebooks/data_table.ipynb>data table notebook</a>'\n",
              "          + ' to learn more about interactive tables.';\n",
              "        element.innerHTML = '';\n",
              "        dataTable['output_type'] = 'display_data';\n",
              "        await google.colab.output.renderOutput(dataTable, element);\n",
              "        const docLink = document.createElement('div');\n",
              "        docLink.innerHTML = docLinkHtml;\n",
              "        element.appendChild(docLink);\n",
              "      }\n",
              "    </script>\n",
              "  </div>\n",
              "\n",
              "\n",
              "<div id=\"df-dacfdfc4-2354-4634-8e69-ddb766511ae6\">\n",
              "  <button class=\"colab-df-quickchart\" onclick=\"quickchart('df-dacfdfc4-2354-4634-8e69-ddb766511ae6')\"\n",
              "            title=\"Suggest charts\"\n",
              "            style=\"display:none;\">\n",
              "\n",
              "<svg xmlns=\"http://www.w3.org/2000/svg\" height=\"24px\"viewBox=\"0 0 24 24\"\n",
              "     width=\"24px\">\n",
              "    <g>\n",
              "        <path d=\"M19 3H5c-1.1 0-2 .9-2 2v14c0 1.1.9 2 2 2h14c1.1 0 2-.9 2-2V5c0-1.1-.9-2-2-2zM9 17H7v-7h2v7zm4 0h-2V7h2v10zm4 0h-2v-4h2v4z\"/>\n",
              "    </g>\n",
              "</svg>\n",
              "  </button>\n",
              "\n",
              "<style>\n",
              "  .colab-df-quickchart {\n",
              "      --bg-color: #E8F0FE;\n",
              "      --fill-color: #1967D2;\n",
              "      --hover-bg-color: #E2EBFA;\n",
              "      --hover-fill-color: #174EA6;\n",
              "      --disabled-fill-color: #AAA;\n",
              "      --disabled-bg-color: #DDD;\n",
              "  }\n",
              "\n",
              "  [theme=dark] .colab-df-quickchart {\n",
              "      --bg-color: #3B4455;\n",
              "      --fill-color: #D2E3FC;\n",
              "      --hover-bg-color: #434B5C;\n",
              "      --hover-fill-color: #FFFFFF;\n",
              "      --disabled-bg-color: #3B4455;\n",
              "      --disabled-fill-color: #666;\n",
              "  }\n",
              "\n",
              "  .colab-df-quickchart {\n",
              "    background-color: var(--bg-color);\n",
              "    border: none;\n",
              "    border-radius: 50%;\n",
              "    cursor: pointer;\n",
              "    display: none;\n",
              "    fill: var(--fill-color);\n",
              "    height: 32px;\n",
              "    padding: 0;\n",
              "    width: 32px;\n",
              "  }\n",
              "\n",
              "  .colab-df-quickchart:hover {\n",
              "    background-color: var(--hover-bg-color);\n",
              "    box-shadow: 0 1px 2px rgba(60, 64, 67, 0.3), 0 1px 3px 1px rgba(60, 64, 67, 0.15);\n",
              "    fill: var(--button-hover-fill-color);\n",
              "  }\n",
              "\n",
              "  .colab-df-quickchart-complete:disabled,\n",
              "  .colab-df-quickchart-complete:disabled:hover {\n",
              "    background-color: var(--disabled-bg-color);\n",
              "    fill: var(--disabled-fill-color);\n",
              "    box-shadow: none;\n",
              "  }\n",
              "\n",
              "  .colab-df-spinner {\n",
              "    border: 2px solid var(--fill-color);\n",
              "    border-color: transparent;\n",
              "    border-bottom-color: var(--fill-color);\n",
              "    animation:\n",
              "      spin 1s steps(1) infinite;\n",
              "  }\n",
              "\n",
              "  @keyframes spin {\n",
              "    0% {\n",
              "      border-color: transparent;\n",
              "      border-bottom-color: var(--fill-color);\n",
              "      border-left-color: var(--fill-color);\n",
              "    }\n",
              "    20% {\n",
              "      border-color: transparent;\n",
              "      border-left-color: var(--fill-color);\n",
              "      border-top-color: var(--fill-color);\n",
              "    }\n",
              "    30% {\n",
              "      border-color: transparent;\n",
              "      border-left-color: var(--fill-color);\n",
              "      border-top-color: var(--fill-color);\n",
              "      border-right-color: var(--fill-color);\n",
              "    }\n",
              "    40% {\n",
              "      border-color: transparent;\n",
              "      border-right-color: var(--fill-color);\n",
              "      border-top-color: var(--fill-color);\n",
              "    }\n",
              "    60% {\n",
              "      border-color: transparent;\n",
              "      border-right-color: var(--fill-color);\n",
              "    }\n",
              "    80% {\n",
              "      border-color: transparent;\n",
              "      border-right-color: var(--fill-color);\n",
              "      border-bottom-color: var(--fill-color);\n",
              "    }\n",
              "    90% {\n",
              "      border-color: transparent;\n",
              "      border-bottom-color: var(--fill-color);\n",
              "    }\n",
              "  }\n",
              "</style>\n",
              "\n",
              "  <script>\n",
              "    async function quickchart(key) {\n",
              "      const quickchartButtonEl =\n",
              "        document.querySelector('#' + key + ' button');\n",
              "      quickchartButtonEl.disabled = true;  // To prevent multiple clicks.\n",
              "      quickchartButtonEl.classList.add('colab-df-spinner');\n",
              "      try {\n",
              "        const charts = await google.colab.kernel.invokeFunction(\n",
              "            'suggestCharts', [key], {});\n",
              "      } catch (error) {\n",
              "        console.error('Error during call to suggestCharts:', error);\n",
              "      }\n",
              "      quickchartButtonEl.classList.remove('colab-df-spinner');\n",
              "      quickchartButtonEl.classList.add('colab-df-quickchart-complete');\n",
              "    }\n",
              "    (() => {\n",
              "      let quickchartButtonEl =\n",
              "        document.querySelector('#df-dacfdfc4-2354-4634-8e69-ddb766511ae6 button');\n",
              "      quickchartButtonEl.style.display =\n",
              "        google.colab.kernel.accessAllowed ? 'block' : 'none';\n",
              "    })();\n",
              "  </script>\n",
              "</div>\n",
              "\n",
              "    </div>\n",
              "  </div>\n"
            ],
            "application/vnd.google.colaboratory.intrinsic+json": {
              "type": "dataframe",
              "variable_name": "Df_creditcard"
            }
          },
          "metadata": {},
          "execution_count": 37
        }
      ]
    },
    {
      "cell_type": "code",
      "source": [
        "Df_creditcard.info()"
      ],
      "metadata": {
        "colab": {
          "base_uri": "https://localhost:8080/"
        },
        "id": "EiOanx3xWbhJ",
        "outputId": "ffdf5987-45b1-4dfb-a25b-51727570013f"
      },
      "execution_count": 38,
      "outputs": [
        {
          "output_type": "stream",
          "name": "stdout",
          "text": [
            "<class 'pandas.core.frame.DataFrame'>\n",
            "RangeIndex: 284807 entries, 0 to 284806\n",
            "Data columns (total 31 columns):\n",
            " #   Column  Non-Null Count   Dtype  \n",
            "---  ------  --------------   -----  \n",
            " 0   Time    284807 non-null  float64\n",
            " 1   V1      284807 non-null  float64\n",
            " 2   V2      284807 non-null  float64\n",
            " 3   V3      284807 non-null  float64\n",
            " 4   V4      284807 non-null  float64\n",
            " 5   V5      284807 non-null  float64\n",
            " 6   V6      284807 non-null  float64\n",
            " 7   V7      284807 non-null  float64\n",
            " 8   V8      284807 non-null  float64\n",
            " 9   V9      284807 non-null  float64\n",
            " 10  V10     284807 non-null  float64\n",
            " 11  V11     284807 non-null  float64\n",
            " 12  V12     284807 non-null  float64\n",
            " 13  V13     284807 non-null  float64\n",
            " 14  V14     284807 non-null  float64\n",
            " 15  V15     284807 non-null  float64\n",
            " 16  V16     284807 non-null  float64\n",
            " 17  V17     284807 non-null  float64\n",
            " 18  V18     284807 non-null  float64\n",
            " 19  V19     284807 non-null  float64\n",
            " 20  V20     284807 non-null  float64\n",
            " 21  V21     284807 non-null  float64\n",
            " 22  V22     284807 non-null  float64\n",
            " 23  V23     284807 non-null  float64\n",
            " 24  V24     284807 non-null  float64\n",
            " 25  V25     284807 non-null  float64\n",
            " 26  V26     284807 non-null  float64\n",
            " 27  V27     284807 non-null  float64\n",
            " 28  V28     284807 non-null  float64\n",
            " 29  Amount  284807 non-null  float64\n",
            " 30  Class   284807 non-null  int64  \n",
            "dtypes: float64(30), int64(1)\n",
            "memory usage: 67.4 MB\n"
          ]
        }
      ]
    },
    {
      "cell_type": "markdown",
      "source": [
        "### 📘 Diccionario de datos - Credit Card Fraud Detection\n",
        "\n",
        "<div align=\"center\">\n",
        "\n",
        "| Variable | Tipo de dato | Descripción |\n",
        "|----------|--------------|-------------|\n",
        "| `Time`   | `float64`    | Segundos transcurridos desde la primera transacción registrada hasta la transacción actual. |\n",
        "| `V1 - V28`    | `float64`    | Componentes principales (resultado de una transformación PCA). Se desconoce su significado original debido a razones de confidencialidad |\n",
        "| `Amount` | `float64`    | Monto de la transacción. |\n",
        "| `Class`  | `int64`      | Variable objetivo: 1 = fraude, 0 = transacción legítima. |\n",
        "\n",
        "</div>\n",
        "\n",
        "\n"
      ],
      "metadata": {
        "id": "FIn8mPrrau8p"
      }
    },
    {
      "cell_type": "markdown",
      "source": [
        "### Preprocesamiento de datos 🧹"
      ],
      "metadata": {
        "id": "X2jMA7C7-pFK"
      }
    },
    {
      "cell_type": "markdown",
      "source": [
        "Antes de construir el modelo de red neuronal, es importante preparar los datos. El preprocesamiento garantiza que las variables estén en óptimas condiciones para el entrenamiento del modelo. En este caso se realizará lo siguiente:\n",
        "\n",
        "*   **Revisión inicial de los datos**: En el ítem anterior con Df.creditcard.info() se evidenció que no existen valores nuloes en el dataset\n",
        "*   **Separación de características y etiquetas**: Se separa la variable objetivo (`Class`) del resto de las variables predicctoras.\n",
        "*   **Normalización de características**: Las variables desde la V1 hasta la V28 ya se encuentran normalizadas por una transformación PCA. Las variables `Time` y `Amount` se estandarizarán utilizando 'StandarScaler' para asegurar que todas las caracteristicas estén a la misma escala.\n",
        "*   **División del conjunto de datos**: Una vez las variables estaán normalizadas, el dataset se dividirá en dos subconjuntos: el 80% de entrenamiento y el de prueba (20%). Debido al desbalance en las clases, se asegura que la proporción de fraudes y no fraudes se mantenga similar en ambos subconjuntos. Esto garantiza que el modelo pueda aprender de manera representativa y su evaluación sea más confiable.\n"
      ],
      "metadata": {
        "id": "rpYyfnZliKZE"
      }
    },
    {
      "cell_type": "code",
      "source": [
        "#Preprocesamiento de datos\n",
        "\n",
        "#Separación de \"X\" (caracteristicas) y \"y\" (etiquetas)\n",
        "X=Df_creditcard.drop(columns='Class')\n",
        "y=Df_creditcard['Class']\n",
        "\n",
        "#Normalización de las columnas 'Time' y 'Amount'\n",
        "scaler=StandardScaler()\n",
        "X[['Time','Amount']]=scaler.fit_transform(X[['Time','Amount']])"
      ],
      "metadata": {
        "id": "dXML8aaUdRSO"
      },
      "execution_count": 39,
      "outputs": []
    },
    {
      "cell_type": "code",
      "source": [
        "#División del dataset en entrenamiento y prueba\n",
        "\n",
        "X_train,X_test, y_train, y_test =train_test_split(\n",
        "    X,y, test_size=0.2,random_state=30,stratify=y\n",
        ")\n",
        "\n",
        "print(f'tamaño de X_train:{X_train.shape}')\n",
        "print(f'Número de fraudes en y_train:{sum(y_train)}')\n",
        "print(f'tamaño de X_test:{X_test.shape}')\n",
        "print(f'Número de fraudes en y_test:{sum(y_test)}')"
      ],
      "metadata": {
        "colab": {
          "base_uri": "https://localhost:8080/"
        },
        "id": "KJCVAlHEeTTz",
        "outputId": "36968578-5e7b-444e-c623-1656edc88a4c"
      },
      "execution_count": 40,
      "outputs": [
        {
          "output_type": "stream",
          "name": "stdout",
          "text": [
            "tamaño de X_train:(227845, 30)\n",
            "Número de fraudes en y_train:394\n",
            "tamaño de X_test:(56962, 30)\n",
            "Número de fraudes en y_test:98\n"
          ]
        }
      ]
    },
    {
      "cell_type": "markdown",
      "source": [
        "### Construcción,entrenamiento y evaluación de la red neuronal🧠🧪\n",
        "\n",
        "#### Construcción\n",
        "\n",
        "Para la construcción del modelo de red neuronal, se utilizará un modelo secuencial (Sequential) 🧠, que constará de tres capas densas (Dense). La primera capa tendrá 64 neuronas 🌐 y recibirá las características del conjunto de entrenamiento 🔢, mientras que las dos capas ocultas tendrán 32 neuronas cada una ⚙️, aplicando funciones de activación ReLU para aprender patrones complejos. Finalmente, la capa de salida tendrá 1 neurona, utilizando la función Sigmoid para la clasificación binaria (fraude o no fraude).\n",
        "\n",
        "A continuación, se compila el modelo utilizando el optimizador Adam 🛠️ y la función de pérdida de entropía cruzada binaria 📉, adecuada para este tipo de problema de clasificación. El modelo se entrenará con 10 épocas ⏳ y un tamaño de lote de 32, con un 20% de los datos reservados para validación 📊."
      ],
      "metadata": {
        "id": "1JYRfirT_rQT"
      }
    },
    {
      "cell_type": "code",
      "source": [
        "#Construcción de la red neuronal\n",
        "\n",
        "#Creación del modelo\n",
        "modelo=Sequential()\n",
        "modelo.add(Dense(64,activation='relu',input_dim=X_train.shape[1]))\n",
        "modelo.add(Dense(32,activation='relu'))\n",
        "modelo.add(Dense(1,activation='sigmoid'))\n",
        "\n",
        "#Compilación del modelo\n",
        "modelo.compile(optimizer=Adam(learning_rate=0.001),loss='binary_crossentropy',metrics=['accuracy'])\n"
      ],
      "metadata": {
        "id": "t7eAJzbY-DbS",
        "colab": {
          "base_uri": "https://localhost:8080/"
        },
        "outputId": "6b71607d-b74e-4697-893f-cccd7c19fbaf"
      },
      "execution_count": 41,
      "outputs": [
        {
          "output_type": "stream",
          "name": "stderr",
          "text": [
            "/usr/local/lib/python3.11/dist-packages/keras/src/layers/core/dense.py:87: UserWarning: Do not pass an `input_shape`/`input_dim` argument to a layer. When using Sequential models, prefer using an `Input(shape)` object as the first layer in the model instead.\n",
            "  super().__init__(activity_regularizer=activity_regularizer, **kwargs)\n"
          ]
        }
      ]
    },
    {
      "cell_type": "markdown",
      "source": [
        "####Entrenamiento"
      ],
      "metadata": {
        "id": "JCh3-eQlFmR-"
      }
    },
    {
      "cell_type": "code",
      "source": [
        "#Entrenamiento del modelo\n",
        "history=modelo.fit(X_train,y_train,epochs=10,batch_size=32,validation_split=0.2)"
      ],
      "metadata": {
        "id": "DZfEN9_n-IjC",
        "colab": {
          "base_uri": "https://localhost:8080/"
        },
        "outputId": "e296f5e8-78a6-4d44-f8e0-fe636a50ea05"
      },
      "execution_count": 42,
      "outputs": [
        {
          "output_type": "stream",
          "name": "stdout",
          "text": [
            "Epoch 1/10\n",
            "\u001b[1m5697/5697\u001b[0m \u001b[32m━━━━━━━━━━━━━━━━━━━━\u001b[0m\u001b[37m\u001b[0m \u001b[1m19s\u001b[0m 3ms/step - accuracy: 0.9963 - loss: 0.0202 - val_accuracy: 0.9994 - val_loss: 0.0031\n",
            "Epoch 2/10\n",
            "\u001b[1m5697/5697\u001b[0m \u001b[32m━━━━━━━━━━━━━━━━━━━━\u001b[0m\u001b[37m\u001b[0m \u001b[1m18s\u001b[0m 3ms/step - accuracy: 0.9994 - loss: 0.0032 - val_accuracy: 0.9993 - val_loss: 0.0029\n",
            "Epoch 3/10\n",
            "\u001b[1m5697/5697\u001b[0m \u001b[32m━━━━━━━━━━━━━━━━━━━━\u001b[0m\u001b[37m\u001b[0m \u001b[1m21s\u001b[0m 3ms/step - accuracy: 0.9995 - loss: 0.0023 - val_accuracy: 0.9993 - val_loss: 0.0027\n",
            "Epoch 4/10\n",
            "\u001b[1m5697/5697\u001b[0m \u001b[32m━━━━━━━━━━━━━━━━━━━━\u001b[0m\u001b[37m\u001b[0m \u001b[1m18s\u001b[0m 3ms/step - accuracy: 0.9995 - loss: 0.0020 - val_accuracy: 0.9993 - val_loss: 0.0029\n",
            "Epoch 5/10\n",
            "\u001b[1m5697/5697\u001b[0m \u001b[32m━━━━━━━━━━━━━━━━━━━━\u001b[0m\u001b[37m\u001b[0m \u001b[1m16s\u001b[0m 3ms/step - accuracy: 0.9995 - loss: 0.0022 - val_accuracy: 0.9993 - val_loss: 0.0027\n",
            "Epoch 6/10\n",
            "\u001b[1m5697/5697\u001b[0m \u001b[32m━━━━━━━━━━━━━━━━━━━━\u001b[0m\u001b[37m\u001b[0m \u001b[1m18s\u001b[0m 3ms/step - accuracy: 0.9996 - loss: 0.0016 - val_accuracy: 0.9994 - val_loss: 0.0026\n",
            "Epoch 7/10\n",
            "\u001b[1m5697/5697\u001b[0m \u001b[32m━━━━━━━━━━━━━━━━━━━━\u001b[0m\u001b[37m\u001b[0m \u001b[1m20s\u001b[0m 3ms/step - accuracy: 0.9996 - loss: 0.0016 - val_accuracy: 0.9994 - val_loss: 0.0032\n",
            "Epoch 8/10\n",
            "\u001b[1m5697/5697\u001b[0m \u001b[32m━━━━━━━━━━━━━━━━━━━━\u001b[0m\u001b[37m\u001b[0m \u001b[1m18s\u001b[0m 3ms/step - accuracy: 0.9996 - loss: 0.0018 - val_accuracy: 0.9994 - val_loss: 0.0028\n",
            "Epoch 9/10\n",
            "\u001b[1m5697/5697\u001b[0m \u001b[32m━━━━━━━━━━━━━━━━━━━━\u001b[0m\u001b[37m\u001b[0m \u001b[1m16s\u001b[0m 3ms/step - accuracy: 0.9996 - loss: 0.0013 - val_accuracy: 0.9994 - val_loss: 0.0027\n",
            "Epoch 10/10\n",
            "\u001b[1m5697/5697\u001b[0m \u001b[32m━━━━━━━━━━━━━━━━━━━━\u001b[0m\u001b[37m\u001b[0m \u001b[1m17s\u001b[0m 3ms/step - accuracy: 0.9997 - loss: 0.0012 - val_accuracy: 0.9993 - val_loss: 0.0031\n"
          ]
        }
      ]
    },
    {
      "cell_type": "markdown",
      "source": [
        "Durante el **entrenamiento del modelo** 🏋️‍♂️, se ejecutaron **10 épocas** 🔟 con un **tamaño de lote de 32** 📊. A lo largo del proceso, la **precisión** 📈 del modelo en los datos de entrenamiento aumentó, alcanzando un **99.96%** 🥇 en la última época. La **pérdida** 📉 también disminuyó progresivamente,📉 se redujo de **0.0202 a 0.0012**, lo que indica que el modelo mejoró su capacidad de clasificación. Además, la **precisión** en los datos de **validación** 🔍 se mantuvo estable y elevada, en torno al **99.92% – 99.94%**, lo que demuestra una buena generalización 🌟."
      ],
      "metadata": {
        "id": "1--27W_BFPIb"
      }
    },
    {
      "cell_type": "markdown",
      "source": [
        "### Evaluación\n",
        "\n",
        "Antes de la evaluación del modelo, se debe verificar el desempeño del modelo utilizando los datos que no fueron empleados durante el entrenamiento. Esto nos permitirá conocer cómo el modelo generaliza su capacidad de predicción sobre nuevos datos. En este caso, se realizará una evaluación del modelo en el conjunto de prueba 🧪, calculando tanto la pérdida como la precisión para determinar su efectividad y precisión en la predicción de fraudes."
      ],
      "metadata": {
        "id": "3YnAm15WFpgF"
      }
    },
    {
      "cell_type": "code",
      "source": [
        "#Evaluación del modelo\n",
        "\n",
        "#Evaluación de modelo en el conjunto de prueba\n",
        "loss,accuracy=modelo.evaluate(X_test,y_test)\n",
        "print(f'Pérdida en el conjunto de prueba: {loss}')\n",
        "print(f'Precisión en el conjunto de prueba: {accuracy}')"
      ],
      "metadata": {
        "id": "SnUyawPg-MZB",
        "colab": {
          "base_uri": "https://localhost:8080/"
        },
        "outputId": "b847539b-d0f0-400a-a2b5-a0b3062cc02b"
      },
      "execution_count": 43,
      "outputs": [
        {
          "output_type": "stream",
          "name": "stdout",
          "text": [
            "\u001b[1m1781/1781\u001b[0m \u001b[32m━━━━━━━━━━━━━━━━━━━━\u001b[0m\u001b[37m\u001b[0m \u001b[1m6s\u001b[0m 3ms/step - accuracy: 0.9994 - loss: 0.0052\n",
            "Pérdida en el conjunto de prueba: 0.004785461816936731\n",
            "Precisión en el conjunto de prueba: 0.9994031190872192\n"
          ]
        }
      ]
    },
    {
      "cell_type": "markdown",
      "source": [
        "En la evaluación del modelo sobre el conjunto de prueba, se alcanzó una precisión de 99.94% y una pérdida de 0.0047, lo que demuestra que el modelo mantiene un rendimiento excelente al clasificar correctamente la mayoría de las muestras en los datos de prueba."
      ],
      "metadata": {
        "id": "YiueyEkiF1Jm"
      }
    },
    {
      "cell_type": "markdown",
      "source": [
        "----\n",
        "\n",
        "Una vez evaluado el modelo, el siguiente paso es realizar predicciones sobre el conjunto de datos de prueba. Aquí se utilizarán los datos de entrada no vistos por el modelo durante el entrenamiento, y se compararán las predicciones generadas con los valores reales para evaluar su precisión en un escenario real."
      ],
      "metadata": {
        "id": "k27Ui5yTF8dx"
      }
    },
    {
      "cell_type": "code",
      "source": [
        "#Predicción en los datos de prueba\n",
        "y_pred=modelo.predict(X_test)\n",
        "y_pred=(y_pred>0.5)\n",
        "print(f'Predicciones: {y_pred[:10]}')\n",
        "print(f'Valores reales: {y_test[:10]}')\n"
      ],
      "metadata": {
        "colab": {
          "base_uri": "https://localhost:8080/"
        },
        "id": "q38CGmduko8K",
        "outputId": "2003d768-e6c6-4697-f0dd-1760e720a3a0"
      },
      "execution_count": 44,
      "outputs": [
        {
          "output_type": "stream",
          "name": "stdout",
          "text": [
            "\u001b[1m1781/1781\u001b[0m \u001b[32m━━━━━━━━━━━━━━━━━━━━\u001b[0m\u001b[37m\u001b[0m \u001b[1m2s\u001b[0m 1ms/step\n",
            "Predicciones: [[False]\n",
            " [False]\n",
            " [False]\n",
            " [False]\n",
            " [False]\n",
            " [False]\n",
            " [False]\n",
            " [False]\n",
            " [False]\n",
            " [False]]\n",
            "Valores reales: 103407    0\n",
            "198721    0\n",
            "121189    0\n",
            "121283    0\n",
            "226396    0\n",
            "187513    0\n",
            "263013    0\n",
            "137377    0\n",
            "55125     0\n",
            "199918    0\n",
            "Name: Class, dtype: int64\n"
          ]
        }
      ]
    },
    {
      "cell_type": "markdown",
      "source": [
        "El modelo ha realizado predicciones sobre el conjunto de prueba, y los primeros valores indican que ha clasificado correctamente todas las transacciones como 'no fraude' (valor 0), lo cual concuerda con los valores reales en el conjunto de datos. Esto sugiere que, hasta ahora, el modelo está haciendo predicciones coherentes y precisas para las transacciones no fraudulentas."
      ],
      "metadata": {
        "id": "ecaU1qxSGNq1"
      }
    },
    {
      "cell_type": "markdown",
      "source": [
        "----\n",
        "Para analizar en profundidad el rendimiento del modelo, se utilizaron diversas métricas:\n",
        "* Matriz de confusión: muestra la cantidad de aciertos y errores al clasificar transacciones como fraude o no fraude.\n",
        "* Reporte de clasificación: presenta precisión, recall y F1-score, útiles para medir la calidad de las predicciones.\n",
        "* Curva ROC y AUC: permite visualizar la capacidad del modelo para distinguir entre clases.\n",
        "* Curva de precisión-recall (AUPRC): especialmente relevante en contextos con clases desbalanceadas.\n",
        "\n",
        "\n"
      ],
      "metadata": {
        "id": "mbgccaXpHiZN"
      }
    },
    {
      "cell_type": "code",
      "source": [
        "#Matriz de confusión\n",
        "conf_matrix=confusion_matrix(y_test,y_pred)\n",
        "print('Matriz de confusión:')\n",
        "print(conf_matrix)"
      ],
      "metadata": {
        "colab": {
          "base_uri": "https://localhost:8080/"
        },
        "id": "AuO8l6qBk7IZ",
        "outputId": "3c322754-bdbd-4ee1-bc20-dac6b871cabd"
      },
      "execution_count": 45,
      "outputs": [
        {
          "output_type": "stream",
          "name": "stdout",
          "text": [
            "Matriz de confusión:\n",
            "[[56859     5]\n",
            " [   29    69]]\n"
          ]
        }
      ]
    },
    {
      "cell_type": "markdown",
      "source": [
        "<div align=\"center\">\n",
        "\n",
        "| **Métrica** | **Valor** |\n",
        "|--------------|-----------|\n",
        "| **TN (Verdaderos Negativos)** | 56859 |\n",
        "| **FP (Falsos Positivos)** | 5|\n",
        "| **FN (Falsos Negativos)** | 29 |\n",
        "| **VP (Verdaderos Positivos)** | 69 |\n",
        "\n",
        "</div>\n",
        "\n",
        "\n",
        "VN (Verdadero negativo): Número de transacciones legítimas correctamente clasificadas.\n",
        "\n",
        "FP (Falso positivo): Número de transacciones legítimas incorrectamente clasificadas como fraudulentas.\n",
        "\n",
        "FN (False negativo): Número de fraudes incorrectamente clasificados como legítimos.\n",
        "\n",
        "VP (Verdadero positivo): Número de fraudes correctamente clasificados.\n",
        "\n",
        "✅ **Conclusión a partir de la matriz de confusión**\n",
        "\n",
        "El modelo demuestra un alto rendimiento en la detección de fraudes, como lo refleja su matriz de confusión.\n",
        "\n",
        "🔍 Con 69 verdaderos positivos y solo unos pocos errores (5 falsos positivos y 29 falsos negativos), la red neuronal logra distinguir correctamente la mayoría de los casos, incluso en un contexto de datos altamente desbalanceados.\n",
        "\n",
        "💡 Esto confirma que el modelo es efectivo para identificar fraudes sin generar muchas falsas alarmas, lo cual es esencial en aplicaciones del mundo real."
      ],
      "metadata": {
        "id": "IzIBnF5AlKfo"
      }
    },
    {
      "cell_type": "code",
      "source": [
        "#Reporte de precisión, recall y F1-Score\n",
        "print(classification_report(y_test,y_pred))"
      ],
      "metadata": {
        "colab": {
          "base_uri": "https://localhost:8080/"
        },
        "id": "5TisdtgUlKAT",
        "outputId": "d9e2a158-db00-482e-f8da-fb5ff1218866"
      },
      "execution_count": 46,
      "outputs": [
        {
          "output_type": "stream",
          "name": "stdout",
          "text": [
            "              precision    recall  f1-score   support\n",
            "\n",
            "           0       1.00      1.00      1.00     56864\n",
            "           1       0.93      0.70      0.80        98\n",
            "\n",
            "    accuracy                           1.00     56962\n",
            "   macro avg       0.97      0.85      0.90     56962\n",
            "weighted avg       1.00      1.00      1.00     56962\n",
            "\n"
          ]
        }
      ]
    },
    {
      "cell_type": "markdown",
      "source": [
        "✅ Conclusión a partir del reporte de precisión, recall y F1-Score\n",
        "\n",
        "El modelo presenta un rendimiento sobresaliente en general, con una precisión global del 100% y métricas perfectas para la clase mayoritaria (no fraude), lo que indica una alta capacidad para clasificar correctamente la mayoría de las transacciones.\n",
        "\n",
        "🔍 Sin embargo, al observar los resultados específicos para la clase minoritaria (fraude), se identifican oportunidades de mejora:\n",
        "\n",
        "Precisión: 93%\n",
        "\n",
        "Recall: 70%\n",
        "\n",
        "F1-Score: 0.80\n",
        "\n",
        "Estos valores indican que, si bien el modelo es muy bueno para evitar falsos positivos (alta precisión), aún no detecta correctamente todos los casos de fraude (recall del 70%), lo cual es crítico en contextos donde el costo de un falso negativo puede ser elevado.\n",
        "\n",
        "📊 La F1-score de 0.80 en la clase 1 refleja un desempeño razonable, pero también sugiere que el equilibrio entre precisión y recall podría optimizarse para mejorar la sensibilidad sin comprometer demasiado la precisión.\n",
        "\n",
        "✅ En resumen, el modelo es altamente preciso y confiable en términos generales, pero debe fortalecerse en la detección de fraudes, especialmente para aumentar la sensibilidad sin incurrir en un exceso de falsos positivos. Esto es crucial para aplicaciones reales donde los casos de fraude, aunque poco frecuentes, tienen un impacto significativo."
      ],
      "metadata": {
        "id": "uSCQ2PnRMkqJ"
      }
    },
    {
      "cell_type": "code",
      "source": [
        "#Curva ROC y AUC\n",
        "\n",
        "y_pred_prob=modelo.predict(X_test)\n",
        "fpr,tpr,thresholds=roc_curve(y_test,y_pred_prob)\n",
        "roc_auc=auc(fpr,tpr)\n",
        "\n",
        "plt.figure(figsize=(8,6))\n",
        "plt.plot(fpr,tpr,color='darkorange',lw=2,label=f'ROC curve (area = {roc_auc:.2f})')\n",
        "plt.plot([0,1],[0,1],color='navy',lw=2,linestyle='--')\n",
        "plt.xlabel('False Positive Rate')\n",
        "plt.ylabel('True Positive Rate')\n",
        "plt.title('ROC')\n",
        "plt.legend(loc='lower right')\n",
        "plt.show()"
      ],
      "metadata": {
        "colab": {
          "base_uri": "https://localhost:8080/",
          "height": 581
        },
        "id": "u_NazRPBpzf4",
        "outputId": "a963ecb1-3cd9-44d3-a358-982649d97b3a"
      },
      "execution_count": 47,
      "outputs": [
        {
          "output_type": "stream",
          "name": "stdout",
          "text": [
            "\u001b[1m1781/1781\u001b[0m \u001b[32m━━━━━━━━━━━━━━━━━━━━\u001b[0m\u001b[37m\u001b[0m \u001b[1m3s\u001b[0m 2ms/step\n"
          ]
        },
        {
          "output_type": "display_data",
          "data": {
            "text/plain": [
              "<Figure size 800x600 with 1 Axes>"
            ],
            "image/png": "[encoded data removed]"
          },
          "metadata": {}
        }
      ]
    },
    {
      "cell_type": "markdown",
      "source": [
        "✅ **Conclusión a partir de la curva ROC**\n",
        "\n",
        "La curva ROC muestra un área bajo la curva (AUC) de 0.95, lo que indica que el modelo tiene un excelente desempeño para distinguir entre transacciones fraudulentas y legítimas."
      ],
      "metadata": {
        "id": "w6FIaUN3NwnO"
      }
    },
    {
      "cell_type": "code",
      "source": [
        "#AUPRC (Área bajo la curva de precisión-recall)\n",
        "precision,recall,_=precision_recall_curve(y_test,y_pred_prob)\n",
        "auprc=average_precision_score(y_test,y_pred_prob)\n",
        "\n",
        "plt.figure(figsize=(8,6))\n",
        "plt.plot(recall,precision,color='darkorange',lw=2,label=f'AUPRC = {auprc:.2f}')\n",
        "plt.xlabel('Recall')\n",
        "plt.ylabel('Precision')\n",
        "plt.title('Precision-Recall Curve')\n",
        "plt.legend(loc='lower left')\n",
        "plt.show()"
      ],
      "metadata": {
        "colab": {
          "base_uri": "https://localhost:8080/",
          "height": 564
        },
        "id": "PTWtV5sJrkjR",
        "outputId": "741af363-99cc-4054-ef38-4c954a5ce8ff"
      },
      "execution_count": 48,
      "outputs": [
        {
          "output_type": "display_data",
          "data": {
            "text/plain": [
              "<Figure size 800x600 with 1 Axes>"
            ],
            "image/png": "[encoded data removed]"
          },
          "metadata": {}
        }
      ]
    },
    {
      "cell_type": "markdown",
      "source": [
        "✅ **Conclusión a partir de la curva Precision-Recall**\n",
        "\n",
        "La curva Precision-Recall muestra un AUPRC de 0.76, lo que indica que el modelo mantiene un buen equilibrio entre precisión y exhaustividad al detectar fraudes.\n",
        "\n",
        "\n",
        "\n",
        "\n",
        "\n",
        "\n",
        "\n",
        "\n",
        "\n",
        "\n",
        "\n",
        "\n",
        "\n",
        "\n",
        "\n",
        "\n"
      ],
      "metadata": {
        "id": "GolEmudYN32d"
      }
    },
    {
      "cell_type": "markdown",
      "source": [
        "✅ Conclusión general de la evaluación del modelo\n",
        "\n",
        "El modelo presenta un rendimiento sólido y confiable en la detección de fraudes. La matriz de confusión muestra una alta capacidad para clasificar correctamente tanto transacciones legítimas como fraudulentas, con muy pocos errores. Las métricas de precisión, recall y F1-score confirman su efectividad, aunque aún hay margen de mejora en la recuperación de fraudes. Las curvas ROC (AUC = 0.95) y Precision-Recall (AUPRC = 0.76) refuerzan la solidez del modelo, demostrando una buena discriminación y equilibrio en su desempeño. En conjunto, estos resultados indican que el modelo es una herramienta eficaz para la detección de fraudes en escenarios reales."
      ],
      "metadata": {
        "id": "-wEQc74BO423"
      }
    },
    {
      "cell_type": "markdown",
      "source": [
        "### Visualización de pérdidas y precisión 📈"
      ],
      "metadata": {
        "id": "_9BblOh6-YnW"
      }
    },
    {
      "cell_type": "markdown",
      "source": [
        "A continuación, se visualiza la evolución de las pérdidas y la precisión durante el entrenamiento, lo cual permite evaluar la estabilidad y el desempeño del modelo a lo largo del tiempo."
      ],
      "metadata": {
        "id": "TKUUqZb0PJfp"
      }
    },
    {
      "cell_type": "code",
      "source": [
        "#Gráfica de pérdidas (loss)\n",
        "plt.figure(figsize=(8,6))\n",
        "plt.plot(history.history['loss'],label='Pérdida de entrenamiento')\n",
        "plt.plot(history.history['val_loss'],label='Pérdida de validación')\n",
        "plt.xlabel('Épocas')\n",
        "plt.ylabel('Pérdida')\n",
        "plt.title('Evolución de la pérdida durante el entrenamiento')\n",
        "plt.legend()\n",
        "plt.grid(True)\n",
        "plt.show()\n"
      ],
      "metadata": {
        "id": "oMB5708s_ULh",
        "colab": {
          "base_uri": "https://localhost:8080/",
          "height": 567
        },
        "outputId": "94835175-d61a-411f-8623-8292c045cc07"
      },
      "execution_count": 49,
      "outputs": [
        {
          "output_type": "display_data",
          "data": {
            "text/plain": [
              "<Figure size 800x600 with 1 Axes>"
            ],
            "image/png": "[encoded data removed]"
          },
          "metadata": {}
        }
      ]
    },
    {
      "cell_type": "markdown",
      "source": [
        "🔍 **Interpretación de la pérdida**\n",
        "\n",
        "🔍 Interpretación de la pérdida\n",
        "\n",
        "✅ La pérdida de entrenamiento disminuye de forma constante a lo largo de las épocas, lo que indica que el modelo está optimizando correctamente sus parámetros para ajustarse a los datos con los que se entrena.\n",
        "\n",
        "📊 La pérdida de validación, aunque empieza baja, se mantiene relativamente estable con algunas oscilaciones leves, y no muestra una mejora significativa a lo largo del tiempo. A partir de la época 6, incluso se observa un ligero aumento, mientras que la pérdida de entrenamiento continúa disminuyendo.\n",
        "\n",
        "🔎 Este comportamiento sugiere que el modelo comienza a sobreajustarse a los datos de entrenamiento: está aprendiendo patrones específicos que no se generalizan bien a los datos nuevos. La diferencia creciente entre ambas curvas refuerza esta interpretación.\n",
        "\n",
        "💡 Podría ser útil considerar técnicas como:\n",
        "\n",
        "Early stopping para detener el entrenamiento antes de que el sobreajuste se acentúe.\n",
        "\n",
        "Regularización (L1, L2 o dropout).\n",
        "\n",
        "Aumento de datos si es posible, para mejorar la generalización.\n",
        "\n"
      ],
      "metadata": {
        "id": "a6RY7kp1PYUm"
      }
    },
    {
      "cell_type": "code",
      "source": [
        "#Gráfica de precisión (Accuracy)\n",
        "\n",
        "plt.figure(figsize=(8,6))\n",
        "plt.plot(history.history['accuracy'],label='Precisión de entrenamiento')\n",
        "plt.plot(history.history['val_accuracy'],label='Precisión de validación')\n",
        "plt.xlabel('Épocas')\n",
        "plt.ylabel('Precisión')\n",
        "plt.title('Evolución de la precisión durante el entrenamiento')\n",
        "plt.legend()\n",
        "plt.grid(True)\n",
        "plt.show()"
      ],
      "metadata": {
        "colab": {
          "base_uri": "https://localhost:8080/",
          "height": 567
        },
        "id": "9pbVUWqesZFI",
        "outputId": "7d2f405d-d1f8-4eb6-936f-f86a24e5b7fb"
      },
      "execution_count": 50,
      "outputs": [
        {
          "output_type": "display_data",
          "data": {
            "text/plain": [
              "<Figure size 800x600 with 1 Axes>"
            ],
            "image/png": "[encoded data removed]"
          },
          "metadata": {}
        }
      ]
    },
    {
      "cell_type": "markdown",
      "source": [
        "🔍 Interpretación de la precisión\n",
        "\n",
        "✅ La precisión en el conjunto de entrenamiento muestra una tendencia creciente y estable, alcanzando valores muy altos. Esto indica que el modelo está aprendiendo correctamente a clasificar los datos con los que se entrena, sin presentar problemas de subajuste.\n",
        "\n",
        "📊 La precisión en el conjunto de validación también es alta, aunque se mantiene más estable y con leves fluctuaciones a lo largo de las épocas. Esto sugiere que el modelo generaliza de forma adecuada sobre datos no vistos, al menos durante las primeras fases del entrenamiento.\n",
        "\n",
        "🔎 A partir de la época 6, se empieza a observar una pequeña brecha entre la precisión de entrenamiento y la de validación. En la última época, la precisión de validación desciende ligeramente, mientras que la de entrenamiento sigue aumentando. Esto puede ser una señal temprana de sobreajuste, donde el modelo comienza a ajustarse demasiado a los datos de entrenamiento y pierde capacidad de generalización."
      ],
      "metadata": {
        "id": "mKTrNfMBQjXh"
      }
    },
    {
      "cell_type": "markdown",
      "source": [
        "🧾 **Conclusión General**\n",
        "\n",
        "El modelo propuesto constituye una base sólida y funcional para un sistema de detección de fraudes, con excelente rendimiento en precisión y una buena capacidad de generalización. No obstante, para su implementación en entornos productivos, es crucial mejorar su sensibilidad mediante técnicas específicas de tratamiento del desbalance y ajustes estratégicos que prioricen la detección completa de actividades fraudulentas."
      ],
      "metadata": {
        "id": "H4GIx2brVTwE"
      }
    }
  ]
}